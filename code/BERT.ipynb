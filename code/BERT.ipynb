{
 "cells": [
  {
   "cell_type": "code",
   "execution_count": 1,
   "id": "ec2a2acd-8206-4909-b457-94b5ee261bbe",
   "metadata": {},
   "outputs": [],
   "source": [
    "import re\n",
    "import pandas as pd"
   ]
  },
  {
   "cell_type": "code",
   "execution_count": 2,
   "id": "a3eab118-bec8-4a20-bb60-32ccb203aa8d",
   "metadata": {},
   "outputs": [],
   "source": [
    "def preprocess(text, \n",
    "            phone_token = ' <PHONE> ',\n",
    "            email_token = ' <EMAIL> ',\n",
    "            url_token = ' <URL> ',\n",
    "            num_token = ' <NUM> ',):\n",
    "    \n",
    "    #Capitalization removal\n",
    "    text = text.lower()\n",
    "\n",
    "    #PHONE NUMBER token substitution\n",
    "    text = re.sub(r'(\\(\\d{2}\\))\\s?\\d{8,}|\\d{10,}', \n",
    "                  phone_token, text, flags=re.MULTILINE)\n",
    "    #EMAIL token substitution\n",
    "    text = re.sub(\"([A-Za-z0-9]+[.-_])*[A-Za-z0-9]+@[A-Za-z0-9-]+(\\.[A-Z|a-z]{2,})+\", \n",
    "                  email_token, text, flags=re.MULTILINE)\n",
    "    #URL token substitution\n",
    "    text = re.sub(r\"(?i)\\b((?:https?://|www\\d{0,3}[.]|[a-z0-9.\\-]+[.][a-z]{2,4}/)(?:[^\\s()<>]+|\\(([^\\s()<>]+|(\\([^\\s()<>]+\\)))*\\))+(?:\\(([^\\s()<>]+|(\\([^\\s()<>]+\\)))*\\)|[^\\s`!()\\[\\]{};:'\\\".,<>?«»“”‘’]))\", \n",
    "                  url_token, text, flags=re.MULTILINE)\n",
    "    #NUMERIC token substitution\n",
    "    text = re.sub(r'[0-9]+', \n",
    "                  num_token, text, flags=re.MULTILINE)\n",
    "    #Special characters removal\n",
    "    text = re.sub(r'([^\\w\\s<>])|(_)', \n",
    "                  \" \", text, flags=re.MULTILINE)\n",
    "    #Multiple space removal\n",
    "    text = re.sub(r'\\s+', \n",
    "                  \" \", text, flags=re.MULTILINE)\n",
    "\n",
    "    return text.strip()"
   ]
  },
  {
   "cell_type": "code",
   "execution_count": 3,
   "id": "ade2c7a9-d9b7-4945-a750-7642d1f6782c",
   "metadata": {},
   "outputs": [],
   "source": [
    "df = pd.read_csv('../Dataset_5971.csv')"
   ]
  },
  {
   "cell_type": "code",
   "execution_count": 4,
   "id": "418160fc-bb9a-4694-8114-5d26f96022fa",
   "metadata": {},
   "outputs": [],
   "source": [
    "df.LABEL = (df.LABEL.str.lower()=='smishing')*1\n",
    "df = df[['TEXT', 'LABEL']]\n",
    "df.TEXT = df.TEXT.apply(preprocess)\n",
    "df.columns = ['text', 'label_ids']"
   ]
  },
  {
   "cell_type": "code",
   "execution_count": 5,
   "id": "6bb4f334-a51c-4327-81f5-63a2c82e4c82",
   "metadata": {},
   "outputs": [],
   "source": [
    "from sklearn.model_selection import train_test_split\n",
    "from datasets import Dataset, DatasetDict\n",
    "from transformers import AutoModelForSequenceClassification, AutoTokenizer"
   ]
  },
  {
   "cell_type": "code",
   "execution_count": 6,
   "id": "9c41b6b2-d23a-4f10-80fd-6ae5afd60fda",
   "metadata": {},
   "outputs": [],
   "source": [
    "df_train, df_test = train_test_split(df, test_size=0.2, stratify=df.label_ids, random_state=0)\n",
    "train_dataset = Dataset.from_pandas(df_train)\n",
    "test_dataset = Dataset.from_pandas(df_test)"
   ]
  },
  {
   "cell_type": "code",
   "execution_count": 7,
   "id": "8564c98d-5a7c-42e7-861a-24561ec4d101",
   "metadata": {},
   "outputs": [],
   "source": [
    "dataset = DatasetDict({'train':train_dataset, 'eval':test_dataset})"
   ]
  },
  {
   "cell_type": "code",
   "execution_count": 8,
   "id": "925bf6a0-7f18-48f7-a58b-43c6b053bb1a",
   "metadata": {},
   "outputs": [
    {
     "name": "stderr",
     "output_type": "stream",
     "text": [
      "Some weights of the model checkpoint at bert-base-uncased were not used when initializing BertForSequenceClassification: ['cls.predictions.transform.dense.weight', 'cls.predictions.transform.dense.bias', 'cls.predictions.transform.LayerNorm.bias', 'cls.seq_relationship.bias', 'cls.predictions.transform.LayerNorm.weight', 'cls.predictions.decoder.weight', 'cls.predictions.bias', 'cls.seq_relationship.weight']\n",
      "- This IS expected if you are initializing BertForSequenceClassification from the checkpoint of a model trained on another task or with another architecture (e.g. initializing a BertForSequenceClassification model from a BertForPreTraining model).\n",
      "- This IS NOT expected if you are initializing BertForSequenceClassification from the checkpoint of a model that you expect to be exactly identical (initializing a BertForSequenceClassification model from a BertForSequenceClassification model).\n",
      "Some weights of BertForSequenceClassification were not initialized from the model checkpoint at bert-base-uncased and are newly initialized: ['classifier.weight', 'classifier.bias']\n",
      "You should probably TRAIN this model on a down-stream task to be able to use it for predictions and inference.\n"
     ]
    }
   ],
   "source": [
    "#here you choose betwwen cased and uncased\n",
    "\n",
    "ckpt = 'bert-base-uncased'\n",
    "# ckpt = 'distilbert-base-uncased'\n",
    "\n",
    "tokenizer = AutoTokenizer.from_pretrained(ckpt)\n",
    "model = AutoModelForSequenceClassification.from_pretrained(ckpt, num_labels=2)"
   ]
  },
  {
   "cell_type": "code",
   "execution_count": 9,
   "id": "22ac25d3-034f-41a9-8cc1-ae510e866f91",
   "metadata": {},
   "outputs": [],
   "source": [
    "from sklearn.metrics import accuracy_score, f1_score, recall_score, precision_score\n",
    "\n",
    "def compute_metrics(pred):\n",
    "    labels = pred.label_ids\n",
    "    preds = pred.predictions.argmax(-1)\n",
    "    f1 = f1_score(labels, preds)\n",
    "    acc = accuracy_score(labels, preds)\n",
    "    rec = recall_score(labels, preds)\n",
    "    prec = precision_score(labels, preds)\n",
    "    return {\n",
    "        'accuracy': acc,\n",
    "        'precision': prec,\n",
    "        'recall': rec,\n",
    "        'f1': f1,\n",
    "    }"
   ]
  },
  {
   "cell_type": "code",
   "execution_count": 10,
   "id": "e8d986ac-7acd-4e89-8f92-d9aaaf90b76d",
   "metadata": {},
   "outputs": [],
   "source": [
    "def tokenize(batch):\n",
    "    return tokenizer(batch['text'], truncation=True, max_length=32, return_special_tokens_mask=True)"
   ]
  },
  {
   "cell_type": "code",
   "execution_count": 11,
   "id": "f9e62467-5aca-44b1-bba6-dd3138d70abd",
   "metadata": {},
   "outputs": [
    {
     "data": {
      "application/vnd.jupyter.widget-view+json": {
       "model_id": "43fee2c9c637431cb08292a6bfa8dd94",
       "version_major": 2,
       "version_minor": 0
      },
      "text/plain": [
       "  0%|          | 0/4776 [00:00<?, ?ex/s]"
      ]
     },
     "metadata": {},
     "output_type": "display_data"
    },
    {
     "data": {
      "application/vnd.jupyter.widget-view+json": {
       "model_id": "1828a32f06524d57812a50bef21f843e",
       "version_major": 2,
       "version_minor": 0
      },
      "text/plain": [
       "  0%|          | 0/1195 [00:00<?, ?ex/s]"
      ]
     },
     "metadata": {},
     "output_type": "display_data"
    }
   ],
   "source": [
    "dataset = dataset.map(tokenize)\n",
    "dataset = dataset.remove_columns(['text'])\n",
    "dataset.set_format('torch')"
   ]
  },
  {
   "cell_type": "code",
   "execution_count": 12,
   "id": "173e8edb-c975-4ce5-abce-0ced73005dc3",
   "metadata": {},
   "outputs": [],
   "source": [
    "from transformers import Trainer, TrainingArguments\n",
    "\n",
    "batch_size = 64\n",
    "logging_steps = len(dataset['train'])//batch_size\n",
    "model_name = \"smishing_model\"\n",
    "\n",
    "training_args = TrainingArguments(output_dir=model_name,\n",
    "                                  num_train_epochs=10,\n",
    "                                  learning_rate=2e-5,\n",
    "                                  per_device_train_batch_size=batch_size,\n",
    "                                  per_device_eval_batch_size=batch_size,\n",
    "                                  weight_decay=0.01,\n",
    "                                  evaluation_strategy='epoch',\n",
    "                                  disable_tqdm=False,\n",
    "                                  logging_steps=logging_steps,\n",
    "                                  save_strategy='no',\n",
    "                                  log_level='error')"
   ]
  },
  {
   "cell_type": "code",
   "execution_count": 13,
   "id": "cf7c67d1-d254-4cbf-958d-4da9bc1af85f",
   "metadata": {},
   "outputs": [],
   "source": [
    "trainer = Trainer(model=model, \n",
    "                  args=training_args,\n",
    "                  compute_metrics=compute_metrics,\n",
    "                  train_dataset=dataset['train'],\n",
    "                  eval_dataset=dataset['eval'],\n",
    "                  tokenizer=tokenizer)"
   ]
  },
  {
   "cell_type": "code",
   "execution_count": 14,
   "id": "5d11f76f-84cd-4c70-8515-67ec09a6cbe9",
   "metadata": {},
   "outputs": [
    {
     "name": "stderr",
     "output_type": "stream",
     "text": [
      "/home/artur/.local/lib/python3.10/site-packages/transformers/optimization.py:306: FutureWarning: This implementation of AdamW is deprecated and will be removed in a future version. Use the PyTorch implementation torch.optim.AdamW instead, or set `no_deprecation_warning=True` to disable this warning\n",
      "  warnings.warn(\n"
     ]
    },
    {
     "data": {
      "text/html": [
       "\n",
       "    <div>\n",
       "      \n",
       "      <progress value='750' max='750' style='width:300px; height:20px; vertical-align: middle;'></progress>\n",
       "      [750/750 05:00, Epoch 10/10]\n",
       "    </div>\n",
       "    <table border=\"1\" class=\"dataframe\">\n",
       "  <thead>\n",
       " <tr style=\"text-align: left;\">\n",
       "      <th>Epoch</th>\n",
       "      <th>Training Loss</th>\n",
       "      <th>Validation Loss</th>\n",
       "      <th>Accuracy</th>\n",
       "      <th>Precision</th>\n",
       "      <th>Recall</th>\n",
       "      <th>F1</th>\n",
       "    </tr>\n",
       "  </thead>\n",
       "  <tbody>\n",
       "    <tr>\n",
       "      <td>1</td>\n",
       "      <td>0.209700</td>\n",
       "      <td>0.107311</td>\n",
       "      <td>0.957322</td>\n",
       "      <td>0.773050</td>\n",
       "      <td>0.851562</td>\n",
       "      <td>0.810409</td>\n",
       "    </tr>\n",
       "    <tr>\n",
       "      <td>2</td>\n",
       "      <td>0.072800</td>\n",
       "      <td>0.102647</td>\n",
       "      <td>0.962343</td>\n",
       "      <td>0.807407</td>\n",
       "      <td>0.851562</td>\n",
       "      <td>0.828897</td>\n",
       "    </tr>\n",
       "    <tr>\n",
       "      <td>3</td>\n",
       "      <td>0.048800</td>\n",
       "      <td>0.093429</td>\n",
       "      <td>0.967364</td>\n",
       "      <td>0.850394</td>\n",
       "      <td>0.843750</td>\n",
       "      <td>0.847059</td>\n",
       "    </tr>\n",
       "    <tr>\n",
       "      <td>4</td>\n",
       "      <td>0.040000</td>\n",
       "      <td>0.124803</td>\n",
       "      <td>0.961506</td>\n",
       "      <td>0.780822</td>\n",
       "      <td>0.890625</td>\n",
       "      <td>0.832117</td>\n",
       "    </tr>\n",
       "    <tr>\n",
       "      <td>5</td>\n",
       "      <td>0.030200</td>\n",
       "      <td>0.118234</td>\n",
       "      <td>0.963180</td>\n",
       "      <td>0.813433</td>\n",
       "      <td>0.851562</td>\n",
       "      <td>0.832061</td>\n",
       "    </tr>\n",
       "    <tr>\n",
       "      <td>6</td>\n",
       "      <td>0.023700</td>\n",
       "      <td>0.126255</td>\n",
       "      <td>0.961506</td>\n",
       "      <td>0.810606</td>\n",
       "      <td>0.835938</td>\n",
       "      <td>0.823077</td>\n",
       "    </tr>\n",
       "    <tr>\n",
       "      <td>7</td>\n",
       "      <td>0.023800</td>\n",
       "      <td>0.139647</td>\n",
       "      <td>0.963180</td>\n",
       "      <td>0.838710</td>\n",
       "      <td>0.812500</td>\n",
       "      <td>0.825397</td>\n",
       "    </tr>\n",
       "    <tr>\n",
       "      <td>8</td>\n",
       "      <td>0.017900</td>\n",
       "      <td>0.157937</td>\n",
       "      <td>0.961506</td>\n",
       "      <td>0.797101</td>\n",
       "      <td>0.859375</td>\n",
       "      <td>0.827068</td>\n",
       "    </tr>\n",
       "    <tr>\n",
       "      <td>9</td>\n",
       "      <td>0.012200</td>\n",
       "      <td>0.174385</td>\n",
       "      <td>0.961506</td>\n",
       "      <td>0.805970</td>\n",
       "      <td>0.843750</td>\n",
       "      <td>0.824427</td>\n",
       "    </tr>\n",
       "    <tr>\n",
       "      <td>10</td>\n",
       "      <td>0.015000</td>\n",
       "      <td>0.173175</td>\n",
       "      <td>0.961506</td>\n",
       "      <td>0.801471</td>\n",
       "      <td>0.851562</td>\n",
       "      <td>0.825758</td>\n",
       "    </tr>\n",
       "  </tbody>\n",
       "</table><p>"
      ],
      "text/plain": [
       "<IPython.core.display.HTML object>"
      ]
     },
     "metadata": {},
     "output_type": "display_data"
    },
    {
     "data": {
      "text/plain": [
       "TrainOutput(global_step=750, training_loss=0.048866226891676585, metrics={'train_runtime': 301.0372, 'train_samples_per_second': 158.651, 'train_steps_per_second': 2.491, 'total_flos': 785386500249600.0, 'train_loss': 0.048866226891676585, 'epoch': 10.0})"
      ]
     },
     "execution_count": 14,
     "metadata": {},
     "output_type": "execute_result"
    }
   ],
   "source": [
    "trainer.train()"
   ]
  }
 ],
 "metadata": {
  "kernelspec": {
   "display_name": "Python 3 (ipykernel)",
   "language": "python",
   "name": "python3"
  },
  "language_info": {
   "codemirror_mode": {
    "name": "ipython",
    "version": 3
   },
   "file_extension": ".py",
   "mimetype": "text/x-python",
   "name": "python",
   "nbconvert_exporter": "python",
   "pygments_lexer": "ipython3",
   "version": "3.10.4"
  }
 },
 "nbformat": 4,
 "nbformat_minor": 5
}
